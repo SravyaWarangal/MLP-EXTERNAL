{
  "nbformat": 4,
  "nbformat_minor": 0,
  "metadata": {
    "colab": {
      "name": "MLP_INTERNAL LAB_16_08_21",
      "provenance": []
    },
    "kernelspec": {
      "name": "python3",
      "display_name": "Python 3"
    },
    "language_info": {
      "name": "python"
    }
  },
  "cells": [
    {
      "cell_type": "markdown",
      "metadata": {
        "id": "DZdunSafJCH8"
      },
      "source": [
        "WRITE A PROGRAM  FOR IMPLEMENTING OPERATORS AND EXPRESSIONS\n"
      ]
    },
    {
      "cell_type": "code",
      "metadata": {
        "colab": {
          "base_uri": "https://localhost:8080/"
        },
        "id": "hpEt08PZLiDK",
        "outputId": "5c139ba6-d847-48a9-d268-5570f8d51a91"
      },
      "source": [
        "print(\"------Arithematic Operators -------\")\n",
        "a=21\n",
        "b=12\n",
        "c=19\n",
        "print(a+b)\n",
        "print(a-b)\n",
        "print(a*b)\n",
        "print(a/b)\n",
        "print(a%b)\n",
        "print(a**b)\n",
        "print(a//b)\n",
        "print(\"------Bitwise Operators -------\")\n",
        "print(a&b)\n",
        "print(a|b)\n",
        "print(a^b)\n",
        "print(~a)\n",
        "print(\"------Relational Operators -------\")\n",
        "print(a<b)\n",
        "print(a>b)\n",
        "print(a==b)\n",
        "print(a<=b)\n",
        "print(a>=b)\n",
        "print(\"------Logical Operators -------\")\n",
        "x = True\n",
        "y = False\n",
        "print(x and y)\n",
        "print(x or y)\n",
        "print(not x)\n",
        "print(\"------Expressions -------\")\n",
        "p = a - b / 3 + c * 2 - 1\n",
        "q = a - b / (3 + c) * (2 - 1)\n",
        "r = a - (b / (3 + c) * 2) - 1\n",
        "print(p)\n",
        "print(q)\n",
        "print(r)"
      ],
      "execution_count": null,
      "outputs": [
        {
          "output_type": "stream",
          "text": [
            "------Arithematic Operators -------\n",
            "33\n",
            "9\n",
            "252\n",
            "1.75\n",
            "9\n",
            "7355827511386641\n",
            "1\n",
            "------Bitwise Operators -------\n",
            "4\n",
            "29\n",
            "25\n",
            "-22\n",
            "------Relational Operators -------\n",
            "False\n",
            "True\n",
            "False\n",
            "False\n",
            "True\n",
            "------Logical Operators -------\n",
            "False\n",
            "True\n",
            "False\n",
            "------Expressions -------\n",
            "54.0\n",
            "20.454545454545453\n",
            "18.90909090909091\n"
          ],
          "name": "stdout"
        }
      ]
    },
    {
      "cell_type": "markdown",
      "metadata": {
        "id": "PKPF-_9AJ3Dp"
      },
      "source": [
        "WRITE A PROGRAM IMPLEMENTING DATA TYPES\n"
      ]
    },
    {
      "cell_type": "code",
      "metadata": {
        "colab": {
          "base_uri": "https://localhost:8080/"
        },
        "id": "CJPW7Gf5Ks0-",
        "outputId": "ee583cd2-54dc-4806-c976-0a974cbd91c2"
      },
      "source": [
        "#integer\n",
        "x = 20     \n",
        "print(x)\n",
        "print(type(x))\n",
        "\n",
        "#float\n",
        "x = 10.5 \n",
        "print(x)\n",
        "print(type(x))\n",
        "\n",
        "#complex\n",
        "x =1j\n",
        "\n",
        "print(x)\n",
        "print(type(x))\n",
        "\n",
        "#String \n",
        "x = \"Black\"    \n",
        "print(x)\n",
        "print(type(x))\n",
        "\n",
        "#List\n",
        "x=['Purple','Ash','Violet', 'Grey','Blue']  \n",
        "print(x)\n",
        "print(type(x))\n",
        "\n",
        "#Tuples\n",
        "x=('Purple','Ash','Violet', 'Grey','Blue')   \n",
        "print(x)\n",
        "print(type(x))\n",
        "\n",
        "#Dictionary\n",
        "x={1:'Purple',2:'Ash',3:'Violet', 4:'Grey', 5:'Blue'}  \n",
        "print(x)\n",
        "print(type(x))\n",
        "\n",
        "#bool\n",
        "x = True  \n",
        "print(x)\n",
        "print(type(x))"
      ],
      "execution_count": null,
      "outputs": [
        {
          "output_type": "stream",
          "text": [
            "20\n",
            "<class 'int'>\n",
            "10.5\n",
            "<class 'float'>\n",
            "1j\n",
            "<class 'complex'>\n",
            "Black\n",
            "<class 'str'>\n",
            "['Purple', 'Ash', 'Violet', 'Grey', 'Blue']\n",
            "<class 'list'>\n",
            "('Purple', 'Ash', 'Violet', 'Grey', 'Blue')\n",
            "<class 'tuple'>\n",
            "{1: 'Purple', 2: 'Ash', 3: 'Violet', 4: 'Grey', 5: 'Blue'}\n",
            "<class 'dict'>\n",
            "True\n",
            "<class 'bool'>\n"
          ],
          "name": "stdout"
        }
      ]
    }
  ]
}